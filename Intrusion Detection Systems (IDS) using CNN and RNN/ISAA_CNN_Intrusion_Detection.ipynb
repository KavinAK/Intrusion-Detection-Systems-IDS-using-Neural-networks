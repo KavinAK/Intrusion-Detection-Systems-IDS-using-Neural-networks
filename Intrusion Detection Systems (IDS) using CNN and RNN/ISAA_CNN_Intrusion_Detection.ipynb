{
  "nbformat": 4,
  "nbformat_minor": 0,
  "metadata": {
    "colab": {
      "name": "19BAI1102_ISAA_CNN_Intrusion_Detection.ipynb",
      "provenance": [],
      "collapsed_sections": []
    },
    "kernelspec": {
      "name": "python3",
      "display_name": "Python 3"
    },
    "accelerator": "GPU"
  },
  "cells": [
    {
      "cell_type": "markdown",
      "metadata": {
        "id": "3rUdtgLZzM6Y"
      },
      "source": [
        "# Bharathwaj  Murali  19BAI1137\n",
        "# Kavin A.K  19BAI1102\n",
        "\n",
        "# Information Security Analysis and Audit(CSE3501)"
      ]
    },
    {
      "cell_type": "markdown",
      "metadata": {
        "id": "lGkf2gg5zTS3"
      },
      "source": [
        "# Intrusion Detection using CNN"
      ]
    },
    {
      "cell_type": "code",
      "metadata": {
        "colab": {
          "resources": {
            "http://localhost:8080/nbextensions/google.colab/files.js": {
              "data": "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",
              "ok": true,
              "headers": [
                [
                  "content-type",
                  "application/javascript"
                ]
              ],
              "status": 200,
              "status_text": ""
            }
          },
          "base_uri": "https://localhost:8080/",
          "height": 73
        },
        "id": "6Q3IPjejNPaN",
        "outputId": "bce03ad8-1716-42ca-e7fe-7a1188034b8e"
      },
      "source": [
        "! pip install -q kaggle\n",
        "from google.colab import files\n",
        "\n",
        "# choose the kaggle.json file that you downloaded\n",
        "files.upload()\n",
        "! mkdir ~/.kaggle\n",
        "\n",
        "# make a directory named kaggle and copy the kaggle.json file there\n",
        "! cp kaggle.json ~/.kaggle/\n",
        "\n",
        "# change the permissions of the file\n",
        "! chmod 600 ~/.kaggle/kaggle.json"
      ],
      "execution_count": null,
      "outputs": [
        {
          "output_type": "display_data",
          "data": {
            "text/html": [
              "\n",
              "     <input type=\"file\" id=\"files-eb1a34a7-86e9-49c4-8316-d85736e3d322\" name=\"files[]\" multiple disabled\n",
              "        style=\"border:none\" />\n",
              "     <output id=\"result-eb1a34a7-86e9-49c4-8316-d85736e3d322\">\n",
              "      Upload widget is only available when the cell has been executed in the\n",
              "      current browser session. Please rerun this cell to enable.\n",
              "      </output>\n",
              "      <script src=\"/nbextensions/google.colab/files.js\"></script> "
            ],
            "text/plain": [
              "<IPython.core.display.HTML object>"
            ]
          },
          "metadata": {}
        },
        {
          "output_type": "stream",
          "name": "stdout",
          "text": [
            "Saving kaggle.json to kaggle.json\n"
          ]
        }
      ]
    },
    {
      "cell_type": "code",
      "metadata": {
        "colab": {
          "resources": {
            "http://localhost:8080/nbextensions/google.colab/files.js": {
              "data": "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",
              "ok": true,
              "headers": [
                [
                  "content-type",
                  "application/javascript"
                ]
              ],
              "status": 200,
              "status_text": ""
            }
          },
          "base_uri": "https://localhost:8080/",
          "height": 174
        },
        "id": "5eAk8A2cOHI8",
        "outputId": "adcaa3bc-84bc-47a7-ce17-47f90a0ea987"
      },
      "source": [
        "from google.colab import files\n",
        "uploaded = files.upload()"
      ],
      "execution_count": null,
      "outputs": [
        {
          "output_type": "display_data",
          "data": {
            "text/html": [
              "\n",
              "     <input type=\"file\" id=\"files-964cd3cb-3084-4311-bb96-b1aea4ca0360\" name=\"files[]\" multiple disabled\n",
              "        style=\"border:none\" />\n",
              "     <output id=\"result-964cd3cb-3084-4311-bb96-b1aea4ca0360\">\n",
              "      Upload widget is only available when the cell has been executed in the\n",
              "      current browser session. Please rerun this cell to enable.\n",
              "      </output>\n",
              "      <script src=\"/nbextensions/google.colab/files.js\"></script> "
            ],
            "text/plain": [
              "<IPython.core.display.HTML object>"
            ]
          },
          "metadata": {}
        },
        {
          "output_type": "stream",
          "name": "stdout",
          "text": [
            "Saving KDDTest+.txt to KDDTest+.txt\n",
            "Saving KDDTest-21.txt to KDDTest-21.txt\n",
            "Saving KDDTrain+.txt to KDDTrain+.txt\n",
            "Saving KDDTrain+_20Percent.txt to KDDTrain+_20Percent.txt\n"
          ]
        }
      ]
    },
    {
      "cell_type": "code",
      "metadata": {
        "colab": {
          "base_uri": "https://localhost:8080/"
        },
        "id": "rdYBWyxdT7Vs",
        "outputId": "e8915bf2-e168-4321-c07f-646d48e8dda0"
      },
      "source": [
        "from google.colab import drive\n",
        "drive.mount('/content/drive')"
      ],
      "execution_count": null,
      "outputs": [
        {
          "output_type": "stream",
          "name": "stdout",
          "text": [
            "Mounted at /content/drive\n"
          ]
        }
      ]
    },
    {
      "cell_type": "code",
      "metadata": {
        "id": "kF7li9zoRpoI"
      },
      "source": [
        "import pandas as pd\n",
        "import numpy as np\n",
        "from sklearn.preprocessing import (StandardScaler, OrdinalEncoder,LabelEncoder, MinMaxScaler, OneHotEncoder)\n",
        "!pip install -q keras\n",
        "from tensorflow.keras.utils import to_categorical\n",
        "from sklearn.naive_bayes import GaussianNB\n",
        "from sklearn.feature_extraction.text import CountVectorizer\n",
        "from sklearn.preprocessing import Normalizer, MaxAbsScaler , RobustScaler, PowerTransformer\n",
        "import matplotlib.pyplot as plt\n",
        "import seaborn as sns"
      ],
      "execution_count": null,
      "outputs": []
    },
    {
      "cell_type": "code",
      "metadata": {
        "id": "AYSWHZfRRyG5"
      },
      "source": [
        "#train+, test+ and test21- dataset loading\n",
        "train='/content/KDDTrain+.txt'\n",
        "test='/content/KDDTest+.txt'\n",
        "test21='/content/KDDTest-21.txt'\n",
        "\n",
        "featureV=[\"duration\",\"protocol_type\",\"service\",\"flag\",\"src_bytes\",\"dst_bytes\",\"land\",\"wrong_fragment\",\"urgent\",\"hot\",\n",
        "          \"num_failed_logins\",\"logged_in\",\"num_compromised\",\"root_shell\",\"su_attempted\",\"num_root\",\"num_file_creations\",\"num_shells\",\n",
        "          \"num_access_files\",\"num_outbound_cmds\",\"is_host_login\",\"is_guest_login\",\"count\",\"srv_count\",\"serror_rate\",\"srv_serror_rate\",\n",
        "          \"rerror_rate\",\"srv_rerror_rate\",\"same_srv_rate\",\"diff_srv_rate\",\"srv_diff_host_rate\",\"dst_host_count\",\"dst_host_srv_count\", \n",
        "          \"dst_host_same_srv_rate\",\"dst_host_diff_srv_rate\",\"dst_host_same_src_port_rate\",\"dst_host_srv_diff_host_rate\",\"dst_host_serror_rate\",\n",
        "          \"dst_host_srv_serror_rate\",\"dst_host_rerror_rate\",\"dst_host_srv_rerror_rate\",\"label\",\"difficulty\"]\n",
        "\n",
        "flagV=['OTH','RSTOS0','SF','SH','RSTO','S2','S1','REJ','S3','RSTR','S0']\n",
        "\n",
        "protocol_typeV=['tcp','udp','icmp']\n",
        "\n",
        "serviceV=['http','smtp','finger','domain_u','auth','telnet','ftp','eco_i','ntp_u','ecr_i','other','private','pop_3','ftp_data',\n",
        "                  'rje','time','mtp','link','remote_job','gopher','ssh','name','whois','domain','login','imap4','daytime','ctf','nntp',\n",
        "                  'shell','IRC','nnsp','http_443','exec','printer','efs','courier','uucp','klogin','kshell','echo','discard','systat',\n",
        "                  'supdup','iso_tsap','hostnames','csnet_ns','pop_2','sunrpc','uucp_path','netbios_ns','netbios_ssn','netbios_dgm',\n",
        "                  'sql_net','vmnet','bgp','Z39_50','ldap','netstat','urh_i','X11','urp_i','pm_dump','tftp_u','tim_i','red_i','icmp',\n",
        "                  'http_2784','harvest','aol','http_8001']\n",
        "\n",
        "binary_attack=['normal','ipsweep', 'nmap', 'portsweep','satan', 'saint', 'mscan','back', 'land', 'neptune', 'pod', 'smurf',\n",
        "               'teardrop', 'apache2', 'udpstorm', 'processtable','mailbomb','buffer_overflow', 'loadmodule', 'perl', 'rootkit',\n",
        "               'xterm', 'ps', 'sqlattack','ftp_write', 'guess_passwd', 'imap', 'multihop','phf', 'spy', 'warezclient',\n",
        "               'warezmaster','snmpgetattack','named', 'xlock', 'xsnoop','sendmail', 'httptunnel', 'worm', 'snmpguess']\n",
        "\n",
        "multiclass_attack={ 'normal': 'normal',\n",
        "        'probe': ['ipsweep.', 'nmap.', 'portsweep.','satan.', 'saint.', 'mscan.'],\n",
        "        'dos': ['back.', 'land.', 'neptune.', 'pod.', 'smurf.','teardrop.', 'apache2.', 'udpstorm.', 'processtable.','mailbomb.'],\n",
        "        'u2r': ['buffer_overflow.', 'loadmodule.', 'perl.', 'rootkit.','xterm.', 'ps.', 'sqlattack.'],\n",
        "        'r2l': ['ftp_write.', 'guess_passwd.', 'imap.', 'multihop.','phf.', 'spy.', 'warezclient.', 'warezmaster.','snmpgetattack.',\n",
        "                   'named.', 'xlock.', 'xsnoop.','sendmail.', 'httptunnel.', 'worm.', 'snmpguess.']}                   "
      ],
      "execution_count": null,
      "outputs": []
    },
    {
      "cell_type": "code",
      "metadata": {
        "id": "ucmcpiZKdzq3"
      },
      "source": [
        "train_data=pd.read_csv(train,names=featureV)\n",
        "test_data=pd.read_csv(test,names=featureV)"
      ],
      "execution_count": null,
      "outputs": []
    },
    {
      "cell_type": "code",
      "metadata": {
        "id": "kS0AWyOZcbCN"
      },
      "source": [
        "test_21 = pd.read_csv(test21, names= featureV)"
      ],
      "execution_count": null,
      "outputs": []
    },
    {
      "cell_type": "code",
      "metadata": {
        "id": "J8-VpMmXtT2Y"
      },
      "source": [
        "train_data = train_data.query(\"service != 'aol'\")\n",
        "train_data = train_data.query(\"service != 'harvest'\")\n",
        "train_data = train_data.query(\"service != 'http_2784'\")\n",
        "train_data = train_data.query(\"service != 'http_8001'\")\n",
        "train_data = train_data.query(\"service != 'red_i'\")\n",
        "train_data = train_data.query(\"service != 'urh_i'\")\n",
        "train_data = train_data.query(\"service != 'printer'\")\n",
        "train_data = train_data.query(\"service != 'rje'\")\n",
        "\n",
        "\n",
        "#-------------------------------------------------------------------------------->>>>\n",
        "\n",
        "test_data = test_data.query(\"service != 'printer'\")\n",
        "test_data = test_data.query(\"service != 'rje'\")"
      ],
      "execution_count": null,
      "outputs": []
    },
    {
      "cell_type": "markdown",
      "metadata": {
        "id": "sve89FgBxQer"
      },
      "source": [
        "# Working with **Training** Data "
      ]
    },
    {
      "cell_type": "code",
      "metadata": {
        "id": "_BWVOVVvturS"
      },
      "source": [
        "def bar_graph(feature):\n",
        "    train_data[feature].value_counts().plot(kind=\"bar\")"
      ],
      "execution_count": null,
      "outputs": []
    },
    {
      "cell_type": "code",
      "metadata": {
        "id": "RJYduSsQtxvm",
        "colab": {
          "base_uri": "https://localhost:8080/",
          "height": 280
        },
        "outputId": "d112b5be-6701-44f9-982a-3a16893759ec"
      },
      "source": [
        "bar_graph('protocol_type')"
      ],
      "execution_count": null,
      "outputs": [
        {
          "output_type": "display_data",
          "data": {
            "image/png": "[encoded data removed]",
            "text/plain": [
              "<Figure size 432x288 with 1 Axes>"
            ]
          },
          "metadata": {
            "needs_background": "light"
          }
        }
      ]
    },
    {
      "cell_type": "code",
      "metadata": {
        "id": "GAVID7iDt_z-",
        "colab": {
          "base_uri": "https://localhost:8080/",
          "height": 265
        },
        "outputId": "49393ddf-b7ab-4ee2-ed0e-6ffd66451020"
      },
      "source": [
        "plt.figure(figsize=(15,3))\n",
        "bar_graph('service')"
      ],
      "execution_count": null,
      "outputs": [
        {
          "output_type": "display_data",
          "data": {
            "image/png": "[encoded data removed]",
            "text/plain": [
              "<Figure size 1080x216 with 1 Axes>"
            ]
          },
          "metadata": {
            "needs_background": "light"
          }
        }
      ]
    },
    {
      "cell_type": "code",
      "metadata": {
        "id": "iCAfinWEuN2p",
        "colab": {
          "base_uri": "https://localhost:8080/",
          "height": 295
        },
        "outputId": "df674e2d-03f7-4158-d4e4-efac12972ea9"
      },
      "source": [
        "bar_graph('flag')"
      ],
      "execution_count": null,
      "outputs": [
        {
          "output_type": "display_data",
          "data": {
            "image/png": "[encoded data removed]",
            "text/plain": [
              "<Figure size 432x288 with 1 Axes>"
            ]
          },
          "metadata": {
            "needs_background": "light"
          }
        }
      ]
    },
    {
      "cell_type": "code",
      "metadata": {
        "id": "2cxiFiVjuYfO",
        "colab": {
          "base_uri": "https://localhost:8080/",
          "height": 262
        },
        "outputId": "6209431b-86a9-4642-d74e-fc40e0d77ef6"
      },
      "source": [
        "bar_graph('logged_in')"
      ],
      "execution_count": null,
      "outputs": [
        {
          "output_type": "display_data",
          "data": {
            "image/png": "[encoded data removed]",
            "text/plain": [
              "<Figure size 432x288 with 1 Axes>"
            ]
          },
          "metadata": {
            "needs_background": "light"
          }
        }
      ]
    },
    {
      "cell_type": "code",
      "metadata": {
        "id": "IhNAaC8TuYmt",
        "colab": {
          "base_uri": "https://localhost:8080/",
          "height": 335
        },
        "outputId": "5f746fa4-a345-45ac-d18c-3d90199bf4d2"
      },
      "source": [
        "bar_graph('label')"
      ],
      "execution_count": null,
      "outputs": [
        {
          "output_type": "display_data",
          "data": {
            "image/png": "[encoded data removed]",
            "text/plain": [
              "<Figure size 432x288 with 1 Axes>"
            ]
          },
          "metadata": {
            "needs_background": "light"
          }
        }
      ]
    },
    {
      "cell_type": "markdown",
      "metadata": {
        "id": "wCe_6dcC3hhj"
      },
      "source": [
        "# **Correlations**"
      ]
    },
    {
      "cell_type": "code",
      "metadata": {
        "id": "6A_5kkHh3gch"
      },
      "source": [
        ""
      ],
      "execution_count": null,
      "outputs": []
    },
    {
      "cell_type": "markdown",
      "metadata": {
        "id": "z0Ut9swezyek"
      },
      "source": [
        "# Working with **Validation** data"
      ]
    },
    {
      "cell_type": "code",
      "metadata": {
        "id": "i86U5064xJNn"
      },
      "source": [
        "def preprocessing(data,cls,df):\n",
        "  \n",
        "#----------attack categorization----------------->\n",
        "  data['label']=data['label'].replace(['normal.','normal'],0)\n",
        "\n",
        "#----------------------binary classification--------------------->\n",
        "  if cls=='binary':\n",
        "    for i in range(len(binary_attack)):\n",
        "      data['label'] = data['label'].replace(binary_attack[i], 1)\n",
        "  \n",
        "#---------------multiclass classification-------------------->  \n",
        "  elif cls=='multiclass':\n",
        "    for i in range(len(multiclass_attack['probe'])):\n",
        "      data['label']=data['label'].replace([multiclass_attack['probe'][i],multiclass_attack['probe'][i][:-1]],1)\n",
        "    \n",
        "    for i in range(len(multiclass_attack['dos'])):\n",
        "      data['label']=data['label'].replace([multiclass_attack['dos'][i],multiclass_attack['dos'][i][:-1]],2)\n",
        "    \n",
        "    for i in range(len(multiclass_attack['u2r'])):\n",
        "      data['label']=data['label'].replace([multiclass_attack['u2r'][i],multiclass_attack['u2r'][i][:-1]],3)\n",
        "    \n",
        "    for i in range(len(multiclass_attack['r2l'])):\n",
        "      data['label'] = data['label'].replace([multiclass_attack['r2l'][i],multiclass_attack['r2l'][i][:-1]],4)\n",
        "#------------------------------------------------>\n",
        "\n",
        "\n",
        "#-------------------------splitting features and labels---------------->\n",
        "  y=data['label']\n",
        "  x=data.loc[:,'duration':'hot']\n",
        "#---------------------------------------------------------------------->\n",
        "\n",
        "\n",
        "#-----------------------------------converting string objects to int------------------------>\n",
        "  #for i in range(len(protocol_typeV)):\n",
        "   # x['protocol_type'] = x['protocol_type'].replace(protocol_typeV[i], i)\n",
        "  \n",
        "  #for i in range(len(serviceV)):\n",
        "   # x['service'] = x['service'].replace(serviceV[i], i+1)\n",
        "\n",
        "  #for i in range(len(flagV)):\n",
        "   # x['flag'] = x['flag'].replace(flagV[i], i+1)\n",
        "#------------------------------------------------------------------------------------------->\n",
        "\n",
        "#-----------------converting to binary feature vectors-------------------------------------->  \n",
        "  t=x.protocol_type.copy()\n",
        "  t=pd.get_dummies(t)\n",
        "  x=x.drop(columns='protocol_type',axis=1)\n",
        "  x=x.join(t)\n",
        "\n",
        "  t1=x.service.copy()\n",
        "  t1=pd.get_dummies(t1)\n",
        "  x=x.drop(columns='service',axis=1)\n",
        "  x=x.join(t1)\n",
        "\n",
        "  t2=x.flag.copy()\n",
        "  t2=pd.get_dummies(t2)\n",
        "  x=x.drop(columns='flag',axis=1)\n",
        "  x=x.join(t2)\n",
        "#------------------------------------------------------------------------------>\n",
        "\n",
        "#-----------------converting to binary label vectors--------------------------------------> \n",
        "  yt=y.copy()\n",
        "  yt=pd.get_dummies(yt)\n",
        "#------------------------------------------------------------------------------>\n",
        "\n",
        "  x = MinMaxScaler(feature_range=(0, 1)).fit_transform(x)\n",
        "  # x = MaxAbsScaler().fit_transform(x)\n",
        "  # x = StandardScaler().fit_transform(x)\n",
        "  #print(x)\n",
        "  #vectorizer = CountVectorizer()\n",
        "  #p= vectorizer.fit_transform(x.protocol_type)\n",
        "\n",
        "  #print(np.shape(p))\n",
        "  #scaler = Normalizer(norm='l1').fit(x)\n",
        "  #trainX = scaler.transform(x)\n",
        "  if df=='train':\n",
        "    return x,yt\n",
        "  else:\n",
        "    return x,y  "
      ],
      "execution_count": null,
      "outputs": []
    },
    {
      "cell_type": "code",
      "metadata": {
        "id": "pTgGtvCS0nuw"
      },
      "source": [
        "x_train,Y_train=preprocessing(train_data,cls='binary',df='train')\n",
        "x_test,Y_test=preprocessing(test_data,cls='binary',df='test')"
      ],
      "execution_count": null,
      "outputs": []
    },
    {
      "cell_type": "code",
      "metadata": {
        "id": "Gdw7Hb7DhM_d"
      },
      "source": [
        "x_21_test, y_21_test = preprocessing(test_21, cls = 'binary', df = 'test21')"
      ],
      "execution_count": null,
      "outputs": []
    },
    {
      "cell_type": "code",
      "metadata": {
        "id": "B939ipnRiM7y",
        "colab": {
          "base_uri": "https://localhost:8080/"
        },
        "outputId": "84c28692-2ec9-42fe-96d8-c8cecd35581a"
      },
      "source": [
        "print(np.shape(x_train))\n",
        "print(np.shape(Y_train))\n",
        "print(np.shape(x_test))\n",
        "print(np.shape(Y_test))\n",
        "print(np.shape(x_21_test))\n",
        "print(np.shape(y_21_test))"
      ],
      "execution_count": null,
      "outputs": [
        {
          "output_type": "stream",
          "name": "stdout",
          "text": [
            "(125793, 83)\n",
            "(125793, 2)\n",
            "(22525, 83)\n",
            "(22525,)\n",
            "(11850, 83)\n",
            "(11850,)\n"
          ]
        }
      ]
    },
    {
      "cell_type": "code",
      "metadata": {
        "id": "V8MHi4XfjvLO",
        "colab": {
          "base_uri": "https://localhost:8080/"
        },
        "outputId": "cd91f67e-adb2-4d7f-d0ae-e9bf647ad400"
      },
      "source": [
        "x_train = np.reshape(x_train, (x_train.shape[0], x_train.shape[1], 1))\n",
        "x_train.shape"
      ],
      "execution_count": null,
      "outputs": [
        {
          "output_type": "execute_result",
          "data": {
            "text/plain": [
              "(125793, 83, 1)"
            ]
          },
          "metadata": {},
          "execution_count": 22
        }
      ]
    },
    {
      "cell_type": "code",
      "metadata": {
        "id": "xzDgJGguj3Iv",
        "colab": {
          "base_uri": "https://localhost:8080/"
        },
        "outputId": "11941ba6-f5ce-41e0-8c8c-8f864edc8303"
      },
      "source": [
        "x_test = np.reshape(x_test, (x_test.shape[0], x_test.shape[1], 1))\n",
        "x_test.shape"
      ],
      "execution_count": null,
      "outputs": [
        {
          "output_type": "execute_result",
          "data": {
            "text/plain": [
              "(22525, 83, 1)"
            ]
          },
          "metadata": {},
          "execution_count": 23
        }
      ]
    },
    {
      "cell_type": "code",
      "metadata": {
        "id": "aK8nS_Q6iQuF",
        "colab": {
          "base_uri": "https://localhost:8080/"
        },
        "outputId": "b54c41d3-6727-45ce-f9db-a188f4703fec"
      },
      "source": [
        "x_21_test = np.reshape(x_21_test, (x_21_test.shape[0], x_21_test.shape[1], 1))\n",
        "x_21_test.shape\n"
      ],
      "execution_count": null,
      "outputs": [
        {
          "output_type": "execute_result",
          "data": {
            "text/plain": [
              "(11850, 83, 1)"
            ]
          },
          "metadata": {},
          "execution_count": 24
        }
      ]
    },
    {
      "cell_type": "markdown",
      "metadata": {
        "id": "G6j5pHdf3lYt"
      },
      "source": [
        "# Model"
      ]
    },
    {
      "cell_type": "code",
      "metadata": {
        "id": "Re8nmtgqj7Zw"
      },
      "source": [
        "from keras.models import Sequential\n",
        "from keras.layers import Dense, LSTM, Dropout, SimpleRNN , GRU , Activation\n",
        "#from keras.layers.normalization import BatchNormalization\n",
        "from tensorflow.keras.models import Sequential\n",
        "from keras.layers.normalization import layer_normalization\n",
        "from keras import optimizers\n",
        "import tensorflow as tf\n",
        "from keras.layers import Convolution1D, Dense, Dropout, Flatten, MaxPooling1D , AveragePooling1D"
      ],
      "execution_count": null,
      "outputs": []
    },
    {
      "cell_type": "code",
      "metadata": {
        "id": "PZ2sIwlOkBXt"
      },
      "source": [
        "model = Sequential()\n",
        "\n",
        "model.add(Convolution1D(32, 3, padding=\"same\",activation=\"relu\",input_shape = (x_train.shape[1], 1)))\n",
        "# model.add(Convolution1D(32, 3, activation=\"relu\"))\n",
        "model.add(MaxPooling1D(pool_size=(4)))\n",
        "# model.add(tf.keras.layers.LayerNormalization())\n",
        "# model.add(GRU(units = 128, return_sequences=True, input_shape = (x_train.shape[1], 1)))\n",
        "model.add(Dropout(0.5))\n",
        "\n",
        "model.add(Convolution1D(64, 3, padding=\"same\",activation=\"relu\"))\n",
        "# model.add(Convolution1D(64, 3,activation=\"relu\"))\n",
        "model.add(MaxPooling1D(pool_size=(2)))\n",
        "model.add(Dropout(0.5))\n",
        "# model.add(tf.keras.layers.LayerNormalization())\n",
        "\n",
        "# model.add(Convolution1D(64, 3, padding=\"same\",activation=\"relu\"))\n",
        "# model.add(Convolution1D(64, 3,activation=\"relu\"))\n",
        "# model.add(AveragePooling1D(pool_size=(2)))\n",
        "# model.add(Dropout(0.2))\n",
        "\n",
        "model.add(Flatten())\n",
        "model.add(Dense(256, activation=\"relu\"))\n",
        "model.add(Dropout(0.5))\n",
        "model.add(Dense(2, activation=\"softmax\"))"
      ],
      "execution_count": null,
      "outputs": []
    },
    {
      "cell_type": "code",
      "metadata": {
        "id": "R85Adnd0jjh9"
      },
      "source": [
        "from sklearn.model_selection import cross_validate\n",
        "from sklearn.model_selection import train_test_split"
      ],
      "execution_count": null,
      "outputs": []
    },
    {
      "cell_type": "code",
      "metadata": {
        "id": "W8IXUK7qkZXT",
        "colab": {
          "base_uri": "https://localhost:8080/"
        },
        "outputId": "0f54755b-b940-491e-eae1-40da37215470"
      },
      "source": [
        "# tf.keras.optimizers.Adam(\n",
        "#     learning_rate=0.001, beta_1=0.9, beta_2=0.999, epsilon=1e-07, amsgrad=False)\n",
        "# train_op = tf.keras.optimizers.adam(amsgrad=True)\n",
        "model.compile(optimizer ='adam',loss = 'categorical_crossentropy', metrics = ['accuracy'])\n",
        "model.fit(x_train, Y_train, epochs = 100, batch_size = 128)"
      ],
      "execution_count": null,
      "outputs": [
        {
          "output_type": "stream",
          "name": "stdout",
          "text": [
            "Epoch 1/100\n",
            "983/983 [==============================] - 7s 6ms/step - loss: 0.1772 - accuracy: 0.9416\n",
            "Epoch 2/100\n",
            "983/983 [==============================] - 6s 6ms/step - loss: 0.1485 - accuracy: 0.9531\n",
            "Epoch 3/100\n",
            "983/983 [==============================] - 6s 6ms/step - loss: 0.1436 - accuracy: 0.9535\n",
            "Epoch 4/100\n",
            "983/983 [==============================] - 6s 6ms/step - loss: 0.1367 - accuracy: 0.9549\n",
            "Epoch 5/100\n",
            "983/983 [==============================] - 6s 6ms/step - loss: 0.1252 - accuracy: 0.9549\n",
            "Epoch 6/100\n",
            "983/983 [==============================] - 6s 6ms/step - loss: 0.1177 - accuracy: 0.9566\n",
            "Epoch 7/100\n",
            "983/983 [==============================] - 6s 6ms/step - loss: 0.1151 - accuracy: 0.9576\n",
            "Epoch 8/100\n",
            "983/983 [==============================] - 6s 6ms/step - loss: 0.1133 - accuracy: 0.9584\n",
            "Epoch 9/100\n",
            "983/983 [==============================] - 6s 6ms/step - loss: 0.1119 - accuracy: 0.9591\n",
            "Epoch 10/100\n",
            "983/983 [==============================] - 6s 6ms/step - loss: 0.1109 - accuracy: 0.9594\n",
            "Epoch 11/100\n",
            "983/983 [==============================] - 6s 6ms/step - loss: 0.1104 - accuracy: 0.9599\n",
            "Epoch 12/100\n",
            "983/983 [==============================] - 6s 6ms/step - loss: 0.1096 - accuracy: 0.9601\n",
            "Epoch 13/100\n",
            "983/983 [==============================] - 6s 6ms/step - loss: 0.1098 - accuracy: 0.9596\n",
            "Epoch 14/100\n",
            "983/983 [==============================] - 6s 6ms/step - loss: 0.1086 - accuracy: 0.9601\n",
            "Epoch 15/100\n",
            "983/983 [==============================] - 6s 6ms/step - loss: 0.1075 - accuracy: 0.9608\n",
            "Epoch 16/100\n",
            "983/983 [==============================] - 6s 6ms/step - loss: 0.1081 - accuracy: 0.9604\n",
            "Epoch 17/100\n",
            "983/983 [==============================] - 6s 6ms/step - loss: 0.1089 - accuracy: 0.9598\n",
            "Epoch 18/100\n",
            "983/983 [==============================] - 6s 6ms/step - loss: 0.1087 - accuracy: 0.9603\n",
            "Epoch 19/100\n",
            "983/983 [==============================] - 6s 6ms/step - loss: 0.1076 - accuracy: 0.9608\n",
            "Epoch 20/100\n",
            "983/983 [==============================] - 6s 6ms/step - loss: 0.1076 - accuracy: 0.9603\n",
            "Epoch 21/100\n",
            "983/983 [==============================] - 6s 6ms/step - loss: 0.1076 - accuracy: 0.9606\n",
            "Epoch 22/100\n",
            "983/983 [==============================] - 6s 6ms/step - loss: 0.1074 - accuracy: 0.9606\n",
            "Epoch 23/100\n",
            "983/983 [==============================] - 6s 6ms/step - loss: 0.1068 - accuracy: 0.9605\n",
            "Epoch 24/100\n",
            "983/983 [==============================] - 6s 6ms/step - loss: 0.1071 - accuracy: 0.9606\n",
            "Epoch 25/100\n",
            "983/983 [==============================] - 6s 6ms/step - loss: 0.1060 - accuracy: 0.9612\n",
            "Epoch 26/100\n",
            "983/983 [==============================] - 6s 6ms/step - loss: 0.1068 - accuracy: 0.9603\n",
            "Epoch 27/100\n",
            "983/983 [==============================] - 6s 6ms/step - loss: 0.1068 - accuracy: 0.9608\n",
            "Epoch 28/100\n",
            "983/983 [==============================] - 6s 6ms/step - loss: 0.1067 - accuracy: 0.9609\n",
            "Epoch 29/100\n",
            "983/983 [==============================] - 6s 6ms/step - loss: 0.1066 - accuracy: 0.9606\n",
            "Epoch 30/100\n",
            "983/983 [==============================] - 6s 6ms/step - loss: 0.1060 - accuracy: 0.9607\n",
            "Epoch 31/100\n",
            "983/983 [==============================] - 6s 6ms/step - loss: 0.1062 - accuracy: 0.9609\n",
            "Epoch 32/100\n",
            "983/983 [==============================] - 6s 6ms/step - loss: 0.1063 - accuracy: 0.9614\n",
            "Epoch 33/100\n",
            "983/983 [==============================] - 6s 6ms/step - loss: 0.1052 - accuracy: 0.9614\n",
            "Epoch 34/100\n",
            "983/983 [==============================] - 6s 6ms/step - loss: 0.1061 - accuracy: 0.9611\n",
            "Epoch 35/100\n",
            "983/983 [==============================] - 6s 6ms/step - loss: 0.1052 - accuracy: 0.9614\n",
            "Epoch 36/100\n",
            "983/983 [==============================] - 6s 6ms/step - loss: 0.1059 - accuracy: 0.9613\n",
            "Epoch 37/100\n",
            "983/983 [==============================] - 6s 6ms/step - loss: 0.1059 - accuracy: 0.9612\n",
            "Epoch 38/100\n",
            "983/983 [==============================] - 6s 6ms/step - loss: 0.1061 - accuracy: 0.9608\n",
            "Epoch 39/100\n",
            "983/983 [==============================] - 6s 6ms/step - loss: 0.1055 - accuracy: 0.9609\n",
            "Epoch 40/100\n",
            "983/983 [==============================] - 6s 6ms/step - loss: 0.1072 - accuracy: 0.9608\n",
            "Epoch 41/100\n",
            "983/983 [==============================] - 6s 6ms/step - loss: 0.1058 - accuracy: 0.9610\n",
            "Epoch 42/100\n",
            "983/983 [==============================] - 6s 6ms/step - loss: 0.1056 - accuracy: 0.9610\n",
            "Epoch 43/100\n",
            "983/983 [==============================] - 6s 6ms/step - loss: 0.1053 - accuracy: 0.9616\n",
            "Epoch 44/100\n",
            "983/983 [==============================] - 6s 6ms/step - loss: 0.1065 - accuracy: 0.9610\n",
            "Epoch 45/100\n",
            "983/983 [==============================] - 6s 6ms/step - loss: 0.1060 - accuracy: 0.9610\n",
            "Epoch 46/100\n",
            "983/983 [==============================] - 6s 6ms/step - loss: 0.1057 - accuracy: 0.9608\n",
            "Epoch 47/100\n",
            "983/983 [==============================] - 6s 6ms/step - loss: 0.1060 - accuracy: 0.9610\n",
            "Epoch 48/100\n",
            "983/983 [==============================] - 6s 6ms/step - loss: 0.1053 - accuracy: 0.9615\n",
            "Epoch 49/100\n",
            "983/983 [==============================] - 6s 6ms/step - loss: 0.1056 - accuracy: 0.9612\n",
            "Epoch 50/100\n",
            "983/983 [==============================] - 6s 6ms/step - loss: 0.1061 - accuracy: 0.9607\n",
            "Epoch 51/100\n",
            "983/983 [==============================] - 6s 6ms/step - loss: 0.1064 - accuracy: 0.9611\n",
            "Epoch 52/100\n",
            "983/983 [==============================] - 6s 6ms/step - loss: 0.1054 - accuracy: 0.9612\n",
            "Epoch 53/100\n",
            "983/983 [==============================] - 6s 6ms/step - loss: 0.1048 - accuracy: 0.9614\n",
            "Epoch 54/100\n",
            "983/983 [==============================] - 6s 6ms/step - loss: 0.1054 - accuracy: 0.9612\n",
            "Epoch 55/100\n",
            "983/983 [==============================] - 6s 6ms/step - loss: 0.1058 - accuracy: 0.9611\n",
            "Epoch 56/100\n",
            "983/983 [==============================] - 6s 6ms/step - loss: 0.1049 - accuracy: 0.9612\n",
            "Epoch 57/100\n",
            "983/983 [==============================] - 6s 6ms/step - loss: 0.1055 - accuracy: 0.9610\n",
            "Epoch 58/100\n",
            "983/983 [==============================] - 6s 6ms/step - loss: 0.1054 - accuracy: 0.9610\n",
            "Epoch 59/100\n",
            "983/983 [==============================] - 6s 6ms/step - loss: 0.1053 - accuracy: 0.9616\n",
            "Epoch 60/100\n",
            "983/983 [==============================] - 6s 6ms/step - loss: 0.1047 - accuracy: 0.9613\n",
            "Epoch 61/100\n",
            "983/983 [==============================] - 6s 6ms/step - loss: 0.1053 - accuracy: 0.9614\n",
            "Epoch 62/100\n",
            "983/983 [==============================] - 6s 6ms/step - loss: 0.1044 - accuracy: 0.9616\n",
            "Epoch 63/100\n",
            "983/983 [==============================] - 6s 6ms/step - loss: 0.1049 - accuracy: 0.9614\n",
            "Epoch 64/100\n",
            "983/983 [==============================] - 6s 6ms/step - loss: 0.1053 - accuracy: 0.9612\n",
            "Epoch 65/100\n",
            "983/983 [==============================] - 6s 6ms/step - loss: 0.1045 - accuracy: 0.9615\n",
            "Epoch 66/100\n",
            "983/983 [==============================] - 6s 6ms/step - loss: 0.1045 - accuracy: 0.9616\n",
            "Epoch 67/100\n",
            "983/983 [==============================] - 6s 6ms/step - loss: 0.1052 - accuracy: 0.9612\n",
            "Epoch 68/100\n",
            "983/983 [==============================] - 6s 6ms/step - loss: 0.1052 - accuracy: 0.9610\n",
            "Epoch 69/100\n",
            "983/983 [==============================] - 6s 6ms/step - loss: 0.1045 - accuracy: 0.9616\n",
            "Epoch 70/100\n",
            "983/983 [==============================] - 6s 6ms/step - loss: 0.1049 - accuracy: 0.9614\n",
            "Epoch 71/100\n",
            "983/983 [==============================] - 6s 6ms/step - loss: 0.1043 - accuracy: 0.9618\n",
            "Epoch 72/100\n",
            "983/983 [==============================] - 6s 6ms/step - loss: 0.1053 - accuracy: 0.9612\n",
            "Epoch 73/100\n",
            "983/983 [==============================] - 6s 6ms/step - loss: 0.1045 - accuracy: 0.9611\n",
            "Epoch 74/100\n",
            "983/983 [==============================] - 6s 6ms/step - loss: 0.1046 - accuracy: 0.9613\n",
            "Epoch 75/100\n",
            "983/983 [==============================] - 6s 6ms/step - loss: 0.1048 - accuracy: 0.9615\n",
            "Epoch 76/100\n",
            "983/983 [==============================] - 6s 6ms/step - loss: 0.1049 - accuracy: 0.9612\n",
            "Epoch 77/100\n",
            "983/983 [==============================] - 6s 6ms/step - loss: 0.1045 - accuracy: 0.9616\n",
            "Epoch 78/100\n",
            "983/983 [==============================] - 6s 6ms/step - loss: 0.1054 - accuracy: 0.9613\n",
            "Epoch 79/100\n",
            "983/983 [==============================] - 6s 6ms/step - loss: 0.1041 - accuracy: 0.9618\n",
            "Epoch 80/100\n",
            "983/983 [==============================] - 6s 6ms/step - loss: 0.1045 - accuracy: 0.9616\n",
            "Epoch 81/100\n",
            "983/983 [==============================] - 6s 6ms/step - loss: 0.1047 - accuracy: 0.9616\n",
            "Epoch 82/100\n",
            "983/983 [==============================] - 6s 6ms/step - loss: 0.1048 - accuracy: 0.9613\n",
            "Epoch 83/100\n",
            "983/983 [==============================] - 6s 6ms/step - loss: 0.1047 - accuracy: 0.9616\n",
            "Epoch 84/100\n",
            "983/983 [==============================] - 6s 6ms/step - loss: 0.1047 - accuracy: 0.9615\n",
            "Epoch 85/100\n",
            "983/983 [==============================] - 6s 6ms/step - loss: 0.1054 - accuracy: 0.9610\n",
            "Epoch 86/100\n",
            "983/983 [==============================] - 6s 6ms/step - loss: 0.1042 - accuracy: 0.9616\n",
            "Epoch 87/100\n",
            "983/983 [==============================] - 6s 6ms/step - loss: 0.1045 - accuracy: 0.9616\n",
            "Epoch 88/100\n",
            "983/983 [==============================] - 6s 6ms/step - loss: 0.1038 - accuracy: 0.9619\n",
            "Epoch 89/100\n",
            "983/983 [==============================] - 6s 6ms/step - loss: 0.1048 - accuracy: 0.9614\n",
            "Epoch 90/100\n",
            "983/983 [==============================] - 6s 6ms/step - loss: 0.1049 - accuracy: 0.9613\n",
            "Epoch 91/100\n",
            "983/983 [==============================] - 6s 6ms/step - loss: 0.1048 - accuracy: 0.9618\n",
            "Epoch 92/100\n",
            "983/983 [==============================] - 6s 6ms/step - loss: 0.1055 - accuracy: 0.9615\n",
            "Epoch 93/100\n",
            "983/983 [==============================] - 6s 6ms/step - loss: 0.1043 - accuracy: 0.9616\n",
            "Epoch 94/100\n",
            "983/983 [==============================] - 6s 6ms/step - loss: 0.1049 - accuracy: 0.9611\n",
            "Epoch 95/100\n",
            "983/983 [==============================] - 6s 6ms/step - loss: 0.1050 - accuracy: 0.9615\n",
            "Epoch 96/100\n",
            "983/983 [==============================] - 6s 6ms/step - loss: 0.1051 - accuracy: 0.9613\n",
            "Epoch 97/100\n",
            "983/983 [==============================] - 6s 6ms/step - loss: 0.1048 - accuracy: 0.9616\n",
            "Epoch 98/100\n",
            "983/983 [==============================] - 6s 6ms/step - loss: 0.1051 - accuracy: 0.9614\n",
            "Epoch 99/100\n",
            "983/983 [==============================] - 6s 6ms/step - loss: 0.1053 - accuracy: 0.9614\n",
            "Epoch 100/100\n",
            "983/983 [==============================] - 6s 6ms/step - loss: 0.1047 - accuracy: 0.9614\n"
          ]
        },
        {
          "output_type": "execute_result",
          "data": {
            "text/plain": [
              "<keras.callbacks.History at 0x7fe75f819e90>"
            ]
          },
          "metadata": {},
          "execution_count": 40
        }
      ]
    },
    {
      "cell_type": "code",
      "metadata": {
        "id": "xfRmnVr0KC5z",
        "colab": {
          "base_uri": "https://localhost:8080/",
          "height": 1000
        },
        "outputId": "d00bd601-35e4-41b1-d05c-a0237e3b093c"
      },
      "source": [
        "tf.keras.utils.plot_model(model, 'my_first_model.png', show_shapes=True)"
      ],
      "execution_count": null,
      "outputs": [
        {
          "output_type": "execute_result",
          "data": {
            "image/png": "[encoded data removed]",
            "text/plain": [
              "<IPython.core.display.Image object>"
            ]
          },
          "metadata": {},
          "execution_count": 41
        }
      ]
    },
    {
      "cell_type": "code",
      "metadata": {
        "id": "DUIIh9uNkd26"
      },
      "source": [
        "pred = model.predict(x_test)\n",
        "y_pred= np.argmax(pred, axis = 1)"
      ],
      "execution_count": null,
      "outputs": []
    },
    {
      "cell_type": "markdown",
      "metadata": {
        "id": "cYLdVuE8H2tZ"
      },
      "source": [
        "Evaluation of the model"
      ]
    },
    {
      "cell_type": "code",
      "metadata": {
        "id": "GH3llzXYke4V"
      },
      "source": [
        "from sklearn.metrics import confusion_matrix,accuracy_score\n",
        "from sklearn.metrics import (precision_score, recall_score,\n",
        "                             f1_score, accuracy_score,mean_squared_error,mean_absolute_error)"
      ],
      "execution_count": null,
      "outputs": []
    },
    {
      "cell_type": "code",
      "metadata": {
        "id": "Vb63sVRLkq72",
        "colab": {
          "base_uri": "https://localhost:8080/"
        },
        "outputId": "17ed6d6c-7185-431d-a333-e88b6d9831de"
      },
      "source": [
        "confusion_matrix(Y_test, y_pred)"
      ],
      "execution_count": null,
      "outputs": [
        {
          "output_type": "execute_result",
          "data": {
            "text/plain": [
              "array([[8727,  984],\n",
              "       [3646, 9168]])"
            ]
          },
          "metadata": {},
          "execution_count": 44
        }
      ]
    },
    {
      "cell_type": "code",
      "metadata": {
        "id": "Y253QfwKkwFZ",
        "colab": {
          "base_uri": "https://localhost:8080/"
        },
        "outputId": "5ee587ce-cadd-45ea-b699-5472ef268b9a"
      },
      "source": [
        "accuracy =accuracy_score(Y_test, y_pred)*100\n",
        "print(accuracy)"
      ],
      "execution_count": null,
      "outputs": [
        {
          "output_type": "stream",
          "name": "stdout",
          "text": [
            "79.44506104328524\n"
          ]
        }
      ]
    },
    {
      "cell_type": "code",
      "metadata": {
        "id": "l51SftKmnpOF",
        "colab": {
          "base_uri": "https://localhost:8080/"
        },
        "outputId": "f01b6018-3979-45e3-91ce-11bf6b202740"
      },
      "source": [
        "print(y_pred)\n",
        "# print(len(y_pred))"
      ],
      "execution_count": null,
      "outputs": [
        {
          "output_type": "stream",
          "name": "stdout",
          "text": [
            "[1 1 0 ... 1 0 1]\n"
          ]
        }
      ]
    },
    {
      "cell_type": "code",
      "metadata": {
        "id": "0Dnfh4W_n0F7",
        "colab": {
          "base_uri": "https://localhost:8080/"
        },
        "outputId": "e959959f-2784-467a-c2c7-05d7531771b0"
      },
      "source": [
        "print(y_21_test)"
      ],
      "execution_count": null,
      "outputs": [
        {
          "output_type": "stream",
          "name": "stdout",
          "text": [
            "0        1\n",
            "1        1\n",
            "2        1\n",
            "3        0\n",
            "4        1\n",
            "        ..\n",
            "11845    0\n",
            "11846    0\n",
            "11847    1\n",
            "11848    1\n",
            "11849    1\n",
            "Name: label, Length: 11850, dtype: int64\n"
          ]
        }
      ]
    },
    {
      "cell_type": "code",
      "metadata": {
        "id": "TXQTWJSCsJDu"
      },
      "source": [
        "pred = model.predict(x_21_test)\n",
        "y_pred= np.argmax(pred, axis = 1)"
      ],
      "execution_count": null,
      "outputs": []
    },
    {
      "cell_type": "code",
      "metadata": {
        "id": "HbP5vIUMef_u",
        "colab": {
          "base_uri": "https://localhost:8080/"
        },
        "outputId": "359d2f2e-3884-4d6f-c5a1-9eb3b1edd2e2"
      },
      "source": [
        "confusion_matrix(y_21_test, y_pred)"
      ],
      "execution_count": null,
      "outputs": [
        {
          "output_type": "execute_result",
          "data": {
            "text/plain": [
              "array([[1207,  945],\n",
              "       [3646, 6052]])"
            ]
          },
          "metadata": {},
          "execution_count": 49
        }
      ]
    },
    {
      "cell_type": "code",
      "metadata": {
        "id": "YkU3VFBJsPYU",
        "colab": {
          "base_uri": "https://localhost:8080/"
        },
        "outputId": "c9fe3d34-1ecc-49b6-9da7-ae4ba32a7ab1"
      },
      "source": [
        "print(y_pred)"
      ],
      "execution_count": null,
      "outputs": [
        {
          "output_type": "stream",
          "name": "stdout",
          "text": [
            "[0 1 0 ... 1 1 1]\n"
          ]
        }
      ]
    },
    {
      "cell_type": "code",
      "metadata": {
        "id": "Uak9Tizyksxl",
        "colab": {
          "base_uri": "https://localhost:8080/"
        },
        "outputId": "99facf2e-5de1-4a79-fb0c-276714d6a677"
      },
      "source": [
        "acc_21 = accuracy_score(y_21_test, y_pred)* 100\n",
        "print(acc_21)"
      ],
      "execution_count": null,
      "outputs": [
        {
          "output_type": "stream",
          "name": "stdout",
          "text": [
            "61.257383966244724\n"
          ]
        }
      ]
    },
    {
      "cell_type": "code",
      "metadata": {
        "id": "RpYAdmDVHtUj"
      },
      "source": [
        "recall = recall_score(y_21_test, y_pred , average=\"binary\")\n",
        "precision = precision_score(y_21_test, y_pred , average=\"binary\")\n",
        "f1 = f1_score(y_21_test, y_pred, average=\"binary\")"
      ],
      "execution_count": null,
      "outputs": []
    },
    {
      "cell_type": "code",
      "metadata": {
        "id": "68ee-uYVIQMo",
        "colab": {
          "base_uri": "https://localhost:8080/"
        },
        "outputId": "52829d8f-2599-4968-ec5d-5f21c4c6c140"
      },
      "source": [
        "  print(\"accuracy\")\n",
        "  print(\"%.3f\" %acc_21)\n",
        "  print(\"racall\")\n",
        "  print(\"%.3f\" %recall)\n",
        "  print(\"precision\")\n",
        "  print(\"%.3f\" %precision)\n",
        "  print(\"f1score\")\n",
        "  print(f1)"
      ],
      "execution_count": null,
      "outputs": [
        {
          "output_type": "stream",
          "name": "stdout",
          "text": [
            "accuracy\n",
            "61.257\n",
            "racall\n",
            "0.624\n",
            "precision\n",
            "0.865\n",
            "f1score\n",
            "0.7250074872716382\n"
          ]
        }
      ]
    },
    {
      "cell_type": "code",
      "metadata": {
        "id": "jw1gQlSdcFUX",
        "colab": {
          "base_uri": "https://localhost:8080/"
        },
        "outputId": "9f92c389-7ee5-4b3d-fbd7-a7d2fe7d4d39"
      },
      "source": [
        "print(\"F-Score : \", f1*100)\n",
        "print(\"Precision : \" , precision*100)\n",
        "print(\"Recall : \", recall*100)\n",
        "print(\"Accuracy : \",acc_21)"
      ],
      "execution_count": null,
      "outputs": [
        {
          "output_type": "stream",
          "name": "stdout",
          "text": [
            "F-Score :  72.50074872716382\n",
            "Precision :  86.49421180505931\n",
            "Recall :  62.40461950917715\n",
            "Accuracy :  61.257383966244724\n"
          ]
        }
      ]
    }
  ]
}